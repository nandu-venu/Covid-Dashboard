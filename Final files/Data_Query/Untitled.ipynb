{
 "cells": [
  {
   "cell_type": "code",
   "execution_count": null,
   "id": "c51bb1a3",
   "metadata": {},
   "outputs": [],
   "source": [
    "import pandas as pd"
   ]
  },
  {
   "cell_type": "code",
   "execution_count": 1,
   "id": "d1ba7ce3",
   "metadata": {},
   "outputs": [],
   "source": [
    "s=\"https://finance.yahoo.com/quote/CL%3DF/history?period1=966902400&period2=1647043200&interval=1d&filter=history&frequency=1d&includeAdjustedClose=true\""
   ]
  },
  {
   "cell_type": "code",
   "execution_count": null,
   "id": "d17f61fa",
   "metadata": {},
   "outputs": [],
   "source": []
  }
 ],
 "metadata": {
  "kernelspec": {
   "display_name": "Python 3",
   "language": "python",
   "name": "python3"
  },
  "language_info": {
   "codemirror_mode": {
    "name": "ipython",
    "version": 3
   },
   "file_extension": ".py",
   "mimetype": "text/x-python",
   "name": "python",
   "nbconvert_exporter": "python",
   "pygments_lexer": "ipython3",
   "version": "3.8.8"
  }
 },
 "nbformat": 4,
 "nbformat_minor": 5
}
